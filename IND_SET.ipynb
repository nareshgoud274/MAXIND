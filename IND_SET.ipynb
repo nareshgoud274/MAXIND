{
 "cells": [
  {
   "cell_type": "code",
   "execution_count": null,
   "metadata": {},
   "outputs": [],
   "source": []
  },
  {
   "cell_type": "code",
   "execution_count": 1,
   "metadata": {},
   "outputs": [],
   "source": [
    "# useful additional packages\n",
    "import matplotlib.pyplot as plt\n",
    "import matplotlib.axes as axes\n",
    "%matplotlib inline\n",
    "import numpy as np\n",
    "import networkx as nx\n",
    "from qiskit.providers.ibmq import least_busy\n",
    "\n",
    "from qiskit import BasicAer\n",
    "from qiskit.tools.visualization import plot_histogram\n",
    "from qiskit.aqua import run_algorithm\n",
    "from qiskit.aqua.input import EnergyInput\n",
    "from qiskit.aqua.translators.ising import max_cut, tsp\n",
    "from qiskit.aqua.algorithms import VQE, ExactEigensolver\n",
    "from qiskit.aqua.components.optimizers import SPSA\n",
    "from qiskit.aqua.components.variational_forms import RY\n",
    "from qiskit.aqua import QuantumInstance\n",
    "\n",
    "from docplex.mp.constants import ComparisonType\n",
    "from docplex.mp.model import Model\n",
    "# useful additional packages\n",
    "import matplotlib.pyplot as plt\n",
    "import matplotlib.axes as axes\n",
    "%matplotlib inline\n",
    "import numpy as np\n",
    "import networkx as nx\n",
    "\n",
    "import logging\n",
    "from math import fsum\n",
    "import warnings\n",
    "\n",
    "import numpy as np\n",
    "from docplex.mp.constants import ComparisonType\n",
    "from docplex.mp.model import Model\n",
    "from qiskit.quantum_info import Pauli\n",
    "\n",
    "from qiskit.aqua import AquaError\n",
    "from qiskit.aqua.operators import WeightedPauliOperator\n",
    "\n",
    "logger = logging.getLogger(__name__)\n",
    "\n",
    "\n",
    "\n",
    "from qiskit import BasicAer\n",
    "from qiskit.tools.visualization import plot_histogram\n",
    "from qiskit.aqua import run_algorithm\n",
    "from qiskit.aqua.input import EnergyInput\n",
    "from qiskit.aqua.translators.ising import max_cut, tsp\n",
    "from qiskit.aqua.algorithms import VQE, ExactEigensolver\n",
    "from qiskit.aqua.components.optimizers import SPSA\n",
    "from qiskit.aqua.components.variational_forms import RY\n",
    "from qiskit.aqua import QuantumInstance\n",
    "\n",
    "from docplex.mp.constants import ComparisonType\n",
    "from docplex.mp.model import Model\n",
    "\n",
    "# setup aqua logging\n",
    "import logging\n",
    "from qiskit.aqua import set_qiskit_aqua_logging\n",
    "# set_qiskit_aqua_logging(logging.DEBUG)  # choose INFO, DEBUG to see the log\n",
    "from qiskit import IBMQ\n",
    "\n",
    "\n",
    "\n"
   ]
  },
  {
   "cell_type": "code",
   "execution_count": 2,
   "metadata": {},
   "outputs": [
    {
     "name": "stderr",
     "output_type": "stream",
     "text": [
      "/Users/naresh/anaconda3/envs/qiskitenv/lib/python3.7/site-packages/networkx/drawing/nx_pylab.py:579: MatplotlibDeprecationWarning: \n",
      "The iterable function was deprecated in Matplotlib 3.1 and will be removed in 3.3. Use np.iterable instead.\n",
      "  if not cb.iterable(width):\n"
     ]
    },
    {
     "data": {
      "image/png": "[encoded data removed]",
      "text/plain": [
       "<Figure size 432x288 with 1 Axes>"
      ]
     },
     "metadata": {},
     "output_type": "display_data"
    }
   ],
   "source": [
    "\n",
    "n=5 # Number of nodes in graph\n",
    "G=nx.Graph()\n",
    "G.add_nodes_from(np.arange(0,n,1))\n",
    "\n",
    "elist=[(0,1,1.0),(0,2,1.0),(0,3,1.0),(0,4,1.0)]\n",
    "# tuple is (i,j,weight) where (i,j) is the edge\n",
    "G.add_weighted_edges_from(elist)\n",
    "\n",
    "colors = ['b' for node in G.nodes()]\n",
    "pos = nx.spring_layout(G)\n",
    "default_axes = plt.axes(frameon=True)\n",
    "nx.draw_networkx(G, node_color=colors, node_size=600, alpha=.8, ax=default_axes, pos=pos)\n",
    "\n",
    "\n"
   ]
  },
  {
   "cell_type": "code",
   "execution_count": null,
   "metadata": {},
   "outputs": [],
   "source": []
  },
  {
   "cell_type": "code",
   "execution_count": null,
   "metadata": {},
   "outputs": [],
   "source": []
  },
  {
   "cell_type": "code",
   "execution_count": null,
   "metadata": {},
   "outputs": [],
   "source": []
  },
  {
   "cell_type": "code",
   "execution_count": 3,
   "metadata": {},
   "outputs": [
    {
     "name": "stdout",
     "output_type": "stream",
     "text": [
      "[[0. 1. 1. 1. 1.]\n",
      " [1. 0. 0. 0. 0.]\n",
      " [1. 0. 0. 0. 0.]\n",
      " [1. 0. 0. 0. 0.]\n",
      " [1. 0. 0. 0. 0.]]\n",
      "case = [0, 0, 0, 0, 0] cost = 0\n",
      "case = [1, 0, 0, 0, 0] cost = 1\n",
      "case = [0, 1, 0, 0, 0] cost = 1\n",
      "case = [1, 1, 0, 0, 0] cost = 0\n",
      "case = [0, 0, 1, 0, 0] cost = 1\n",
      "case = [1, 0, 1, 0, 0] cost = 0\n",
      "case = [0, 1, 1, 0, 0] cost = 2\n",
      "case = [1, 1, 1, 0, 0] cost = 0\n",
      "case = [0, 0, 0, 1, 0] cost = 1\n",
      "case = [1, 0, 0, 1, 0] cost = 0\n",
      "case = [0, 1, 0, 1, 0] cost = 2\n",
      "case = [1, 1, 0, 1, 0] cost = 0\n",
      "case = [0, 0, 1, 1, 0] cost = 2\n",
      "case = [1, 0, 1, 1, 0] cost = 0\n",
      "case = [0, 1, 1, 1, 0] cost = 3\n",
      "case = [1, 1, 1, 1, 0] cost = 0\n",
      "case = [0, 0, 0, 0, 1] cost = 1\n",
      "case = [1, 0, 0, 0, 1] cost = 0\n",
      "case = [0, 1, 0, 0, 1] cost = 2\n",
      "case = [1, 1, 0, 0, 1] cost = 0\n",
      "case = [0, 0, 1, 0, 1] cost = 2\n",
      "case = [1, 0, 1, 0, 1] cost = 0\n",
      "case = [0, 1, 1, 0, 1] cost = 3\n",
      "case = [1, 1, 1, 0, 1] cost = 0\n",
      "case = [0, 0, 0, 1, 1] cost = 2\n",
      "case = [1, 0, 0, 1, 1] cost = 0\n",
      "case = [0, 1, 0, 1, 1] cost = 3\n",
      "case = [1, 1, 0, 1, 1] cost = 0\n",
      "case = [0, 0, 1, 1, 1] cost = 3\n",
      "case = [1, 0, 1, 1, 1] cost = 0\n",
      "case = [0, 1, 1, 1, 1] cost = 4\n",
      "case = [1, 1, 1, 1, 1] cost = 0\n",
      "\n",
      "Best solution = [0, 1, 1, 1, 1] cost = 4\n"
     ]
    },
    {
     "data": {
      "image/png": "[encoded data removed]",
      "text/plain": [
       "<Figure size 432x288 with 1 Axes>"
      ]
     },
     "metadata": {},
     "output_type": "display_data"
    }
   ],
   "source": [
    "# Computing the weight matrix from the random graph\n",
    "w = np.zeros([n,n])\n",
    "for i in range(n):\n",
    "    for j in range(n):\n",
    "        temp = G.get_edge_data(i,j,default=0)\n",
    "        if temp != 0:\n",
    "            w[i,j] = temp['weight']\n",
    "print(w)\n",
    "best_cost_brute = 0\n",
    "xbest_brute =0\n",
    "for b in range(2**n):\n",
    "    x = [int(t) for t in reversed(list(bin(b)[2:].zfill(n)))]\n",
    "    cost_brute = 0\n",
    "    var =True\n",
    "    for i in range(n):\n",
    "        for j in range(n):\n",
    "            if ((w[i,j] ==1.) and (0  != x[i]*x[j])):\n",
    "                var = False\n",
    "    if (var == True):\n",
    "        cost_brute = sum(x)\n",
    "\n",
    "    if best_cost_brute < cost_brute:\n",
    "        best_cost_brute = cost_brute\n",
    "        xbest_brute = x\n",
    "    print('case = ' + str(x)+ ' cost = ' + str(cost_brute))\n",
    "\n",
    "colors = ['r' if xbest_brute[i] == 0 else 'b' for i in range(n)]\n",
    "nx.draw_networkx(G, node_color=colors, node_size=600, alpha=.8, pos=pos)\n",
    "print('\\nBest solution = ' + str(xbest_brute) + ' cost = ' + str(best_cost_brute))\n",
    "\n",
    "\n"
   ]
  },
  {
   "cell_type": "markdown",
   "metadata": {},
   "source": [
    "# New Code"
   ]
  },
  {
   "cell_type": "code",
   "execution_count": 4,
   "metadata": {},
   "outputs": [
    {
     "name": "stdout",
     "output_type": "stream",
     "text": [
      "\\ This file has been generated by DOcplex\n",
      "\\ ENCODING=ISO-8859-1\n",
      "\\Problem name: max_ind\n",
      "\n",
      "Maximize\n",
      " obj: x_0 + x_1 + x_2 + x_3 + x_4\n",
      "Subject To\n",
      " qc1: [ x_0*x_1 ] = 0\n",
      " qc2: [ x_0*x_2 ] = 0\n",
      " qc3: [ x_0*x_3 ] = 0\n",
      " qc4: [ x_0*x_4 ] = 0\n",
      "\n",
      "Bounds\n",
      " 0 <= x_0 <= 1\n",
      " 0 <= x_1 <= 1\n",
      " 0 <= x_2 <= 1\n",
      " 0 <= x_3 <= 1\n",
      " 0 <= x_4 <= 1\n",
      "\n",
      "Binaries\n",
      " x_0 x_1 x_2 x_3 x_4\n",
      "End\n",
      "\n"
     ]
    }
   ],
   "source": [
    "from docplex.mp.model import Model\n",
    "from qiskit.aqua.translators.ising import docplex\n",
    "\n",
    "# Create an instance of a model and variables\n",
    "mdl = Model(name='max_ind')\n",
    "x = {i: mdl.binary_var(name='x_{0}'.format(i)) for i in range(0,n)}\n",
    "\n",
    "# Objective function\n",
    "max_vars_func = mdl.sum(x[i] for i in range(0,n))\n",
    "mdl.maximize(max_vars_func)\n",
    "\n",
    "# Constraints\n",
    "for i in range(n):\n",
    "    for j in range(i,n):\n",
    "        if (w[i,j] ==1.0):\n",
    "            mdl.add_constraint(x[i]*x[j]== 0)\n",
    "\n",
    "print(mdl.export_to_string())"
   ]
  },
  {
   "cell_type": "code",
   "execution_count": null,
   "metadata": {},
   "outputs": [],
   "source": []
  },
  {
   "cell_type": "code",
   "execution_count": null,
   "metadata": {},
   "outputs": [],
   "source": []
  },
  {
   "cell_type": "code",
   "execution_count": 233,
   "metadata": {},
   "outputs": [],
   "source": [
    "# mdl.is_maximized()"
   ]
  },
  {
   "cell_type": "code",
   "execution_count": 234,
   "metadata": {},
   "outputs": [],
   "source": [
    "# q_d = {}\n",
    "# index = 0\n",
    "# for i in mdl.iter_variables():\n",
    "#     if i in q_d:\n",
    "#         continue\n",
    "#     q_d[i] = index\n",
    "#     index += 1"
   ]
  },
  {
   "cell_type": "code",
   "execution_count": 235,
   "metadata": {},
   "outputs": [],
   "source": [
    "# print(q_d)"
   ]
  },
  {
   "cell_type": "code",
   "execution_count": 236,
   "metadata": {},
   "outputs": [],
   "source": [
    "# num_nodes = len(q_d)\n",
    "# print(num_nodes)\n",
    "# pauli_list = []\n",
    "# shift = 0\n",
    "# zero = np.zeros(num_nodes, dtype=np.bool)"
   ]
  },
  {
   "cell_type": "code",
   "execution_count": 237,
   "metadata": {},
   "outputs": [],
   "source": [
    "# weight = 0\n",
    "# shift=0\n",
    "# pauli_list = []"
   ]
  },
  {
   "cell_type": "code",
   "execution_count": 238,
   "metadata": {},
   "outputs": [],
   "source": [
    "# l_itr = mdl.get_objective_expr().iter_terms()\n",
    "# for j in l_itr:\n",
    "#     z_p = np.zeros(num_nodes, dtype=np.bool)\n",
    "#     index = q_d[j[0]] # coefficient\n",
    "#     print(index)\n",
    "#     weight = j[1] * (-1) / 2 # weight\n",
    "#     print(weight)\n",
    "#     z_p[index] = True\n",
    "\n",
    "#     pauli_list.append([-weight, Pauli(z_p, zero)]) # if 1 apply X, if 0 apply Z\n",
    "#     #print(pauli_list)\n",
    "#     shift += -weight\n",
    "#     print(shift)"
   ]
  },
  {
   "cell_type": "code",
   "execution_count": 239,
   "metadata": {},
   "outputs": [],
   "source": [
    "# penalty = 1e5"
   ]
  },
  {
   "cell_type": "code",
   "execution_count": 240,
   "metadata": {},
   "outputs": [],
   "source": [
    "# print(pauli_list)\n",
    "# print(shift)"
   ]
  },
  {
   "cell_type": "code",
   "execution_count": 241,
   "metadata": {},
   "outputs": [],
   "source": [
    "# for i in range(n):\n",
    "#     for j in range(i,n):\n",
    "#         if (w[i,j] ==1.0):\n",
    "#             index1 = i # coefficient\n",
    "#             index2 = j # index coefficient\n",
    "# #                 weight1 = __l[1]\n",
    "#             weight1 = 1\n",
    "#             weight2 = 1\n",
    "# #                 weight2 = l_2[1]\n",
    "                \n",
    "#                 # constant penalty\n",
    "#             shift += 0.25 * penalty\n",
    "                \n",
    "#                 # linear penalty\n",
    "#             linear_penalty = penalty/4\n",
    "#             z_p = np.zeros(num_nodes, dtype=np.bool)\n",
    "#             z_p[index1] = True\n",
    "#             pauli_list.append([-linear_penalty, Pauli(z_p, zero)])\n",
    "\n",
    "#             z_p = np.zeros(num_nodes, dtype=np.bool)\n",
    "#             z_p[index2] = True\n",
    "#             pauli_list.append([-linear_penalty, Pauli(z_p, zero)])\n",
    "                \n",
    "#                 # quadratic penalty\n",
    "#             penalty_weight1_weight2 = penalty * weight1 * weight2 / 4\n",
    "#             z_p = np.zeros(num_nodes, dtype=np.bool)\n",
    "#             z_p[index1] = True\n",
    "#             z_p[index2] = True\n",
    "#             pauli_list.append([penalty_weight1_weight2, Pauli(z_p, zero)])\n",
    "\n"
   ]
  },
  {
   "cell_type": "code",
   "execution_count": 242,
   "metadata": {},
   "outputs": [],
   "source": [
    "# print(pauli_list)"
   ]
  },
  {
   "cell_type": "code",
   "execution_count": 243,
   "metadata": {},
   "outputs": [],
   "source": [
    "# print(shift)"
   ]
  },
  {
   "cell_type": "code",
   "execution_count": 244,
   "metadata": {},
   "outputs": [],
   "source": [
    "# qubit_op = WeightedPauliOperator(paulis=pauli_list)"
   ]
  },
  {
   "cell_type": "code",
   "execution_count": 245,
   "metadata": {},
   "outputs": [],
   "source": [
    "# ee = ExactEigensolver(qubit_op, k=1)\n",
    "# result = ee.run()\n",
    "\n",
    "# print('energy:', result['energy'])\n",
    "# print('objective:', result['energy'] + offset)\n",
    "\n",
    "# x = docplex.sample_most_likely(result['eigvecs'][0])\n",
    "# print('solution:', x)"
   ]
  },
  {
   "cell_type": "code",
   "execution_count": 5,
   "metadata": {},
   "outputs": [],
   "source": [
    "\n",
    "\n",
    "def get_operator(mdl, auto_penalty=False, default_penalty=1e5):\n",
    "    \"\"\" Generate Ising Hamiltonian from a model of DOcplex.\n",
    "\n",
    "    Args:\n",
    "        mdl (docplex.mp.model.Model): A model of DOcplex for a optimization problem.\n",
    "        auto_penalty (bool): If true, the penalty coefficient is automatically defined\n",
    "                             by \"_auto_define_penalty()\".\n",
    "        default_penalty (float): The default value of the penalty coefficient for the constraints.\n",
    "            This value is used if \"auto_penalty\" is False.\n",
    "\n",
    "    Returns:\n",
    "        tuple(operators.WeightedPauliOperator, float): operator for the Hamiltonian and a\n",
    "        constant shift for the obj function.\n",
    "    \"\"\"\n",
    "\n",
    "    _validate_input_model(mdl)\n",
    "\n",
    "    # set the penalty coefficient by _auto_define_penalty() or manually.\n",
    "    if auto_penalty:\n",
    "        penalty = _auto_define_penalty(mdl, default_penalty)\n",
    "    else:\n",
    "        penalty = default_penalty\n",
    "\n",
    "    # set a sign corresponding to a maximized or minimized problem.\n",
    "    # sign == 1 is for minimized problem. sign == -1 is for maximized problem.\n",
    "    sign = 1\n",
    "    if mdl.is_maximized():\n",
    "        sign = -1\n",
    "\n",
    "    # assign variables of the model to qubits.\n",
    "    q_d = {}\n",
    "    index = 0\n",
    "    for i in mdl.iter_variables():\n",
    "        if i in q_d:\n",
    "            continue\n",
    "        q_d[i] = index\n",
    "        index += 1\n",
    "\n",
    "    # initialize Hamiltonian.\n",
    "    num_nodes = len(q_d)\n",
    "    pauli_list = []\n",
    "    shift = 0\n",
    "    zero = np.zeros(num_nodes, dtype=np.bool)\n",
    "\n",
    "    # convert a constant part of the object function into Hamiltonian.\n",
    "#     shift += mdl.get_objective_expr().get_constant() * sign\n",
    "\n",
    "    # convert linear parts of the object function into Hamiltonian.\n",
    "    l_itr = mdl.get_objective_expr().iter_terms()\n",
    "    for j in l_itr:\n",
    "        z_p = np.zeros(num_nodes, dtype=np.bool)\n",
    "        index = q_d[j[0]] # coefficient\n",
    "        weight = j[1] * sign / 2 # weight\n",
    "        z_p[index] = True\n",
    "\n",
    "        pauli_list.append([-weight, Pauli(z_p, zero)]) # if 1 apply X, if 0 apply Z\n",
    "        shift += weight\n",
    "\n",
    "    # convert quadratic parts of the object function into Hamiltonian.\n",
    "\n",
    "\n",
    "    # convert constraints into penalty terms.\n",
    "    \n",
    "    \n",
    "    for i in range(n):\n",
    "        for j in range(i,n):\n",
    "            if (w[i,j] ==1.0):\n",
    "                index1 = i # coefficient\n",
    "                index2 = j # index coefficient\n",
    "#                 weight1 = __l[1]\n",
    "                weight1 = 1\n",
    "                weight2 = 1\n",
    "#                 weight2 = l_2[1]\n",
    "                \n",
    "                # constant penalty\n",
    "                shift += 0.25 * penalty\n",
    "                \n",
    "                # linear penalty\n",
    "                linear_penalty = penalty/4\n",
    "                z_p = np.zeros(num_nodes, dtype=np.bool)\n",
    "                z_p[index1] = True\n",
    "                pauli_list.append([-linear_penalty, Pauli(z_p, zero)])\n",
    "\n",
    "                z_p = np.zeros(num_nodes, dtype=np.bool)\n",
    "                z_p[index2] = True\n",
    "                pauli_list.append([-linear_penalty, Pauli(z_p, zero)])\n",
    "                \n",
    "                # quadratic penalty\n",
    "                penalty_weight1_weight2 = penalty * weight1 * weight2 / 4\n",
    "                z_p = np.zeros(num_nodes, dtype=np.bool)\n",
    "                z_p[index1] = True\n",
    "                z_p[index2] = True\n",
    "                pauli_list.append([penalty_weight1_weight2, Pauli(z_p, zero)])\n",
    "\n",
    "\n",
    "    qubit_op = WeightedPauliOperator(paulis=pauli_list)\n",
    "\n",
    "    return qubit_op, shift\n",
    "\n",
    "\n",
    "def _validate_input_model(mdl):\n",
    "    \"\"\" Check whether an input model is valid. If not, raise an AquaError\n",
    "\n",
    "    Args:\n",
    "         mdl (docplex.mp.model.Model): A model of DOcplex for a optimization problem.\n",
    "    Raises:\n",
    "        AquaError: Unsupported input model\n",
    "    \"\"\"\n",
    "    valid = True\n",
    "\n",
    "    # validate an object type of the input.\n",
    "    if not isinstance(mdl, Model):\n",
    "        raise AquaError('An input model must be docplex.mp.model.Model.')\n",
    "\n",
    "    # raise an error if the type of the variable is not a binary type.\n",
    "    for var in mdl.iter_variables():\n",
    "        if not var.is_binary():\n",
    "            logger.warning('The type of Variable %s is %s. It must be a binary variable. ',\n",
    "                           var, var.vartype.short_name)\n",
    "            valid = False\n",
    "\n",
    "    # raise an error if the constraint type is not an equality constraint.\n",
    "    for constraint in mdl.iter_constraints():\n",
    "        if not constraint.sense == ComparisonType.EQ:\n",
    "            logger.warning('Constraint %s is not an equality constraint.', constraint)\n",
    "            valid = False\n",
    "\n",
    "    if not valid:\n",
    "        raise AquaError('The input model has unsupported elements.')\n",
    "\n",
    "\n",
    "def _auto_define_penalty(mdl, default_penalty=1e5):\n",
    "    \"\"\" Automatically define the penalty coefficient.\n",
    "    This returns object function's (upper bound - lower bound + 1).\n",
    "\n",
    "\n",
    "    Args:\n",
    "        mdl (docplex.mp.model.Model): A model of DOcplex for a optimization problem.\n",
    "        default_penalty (float): The default value of the penalty coefficient for the constraints.\n",
    "\n",
    "    Returns:\n",
    "        float: The penalty coefficient for the Hamiltonian.\n",
    "    \"\"\"\n",
    "\n",
    "    # if a constraint has float coefficient, return 1e5 for the penalty coefficient.\n",
    "    terms = []\n",
    "    for constraint in mdl.iter_constraints():\n",
    "        terms.append(constraint.right_expr.get_constant())\n",
    "        terms.extend(term[1] for term in constraint.left_expr.iter_terms())\n",
    "    if any(isinstance(term, float) and not term.is_integer() for term in terms):\n",
    "        logger.warning('Using %f for the penalty coefficient because a float coefficient exists '\n",
    "                       'in constraints. \\nThe value could be too small. '\n",
    "                       'If so, set the penalty coefficient manually.', default_penalty)\n",
    "        return default_penalty\n",
    "\n",
    "    # (upper bound - lower bound) can be calculate as the sum of absolute value of coefficients\n",
    "    # Firstly, add 1 to guarantee that infeasible answers will be greater than upper bound.\n",
    "    penalties = [1]\n",
    "    # add linear terms of the object function.\n",
    "    penalties.extend(abs(i[1]) for i in mdl.get_objective_expr().iter_terms())\n",
    "    # add quadratic terms of the object function.\n",
    "    penalties.extend(abs(i[1]) for i in mdl.get_objective_expr().iter_quads())\n",
    "\n",
    "    return fsum(penalties)\n",
    "\n",
    "\n",
    "def sample_most_likely(state_vector):\n",
    "    \"\"\" sample most likely \"\"\"\n",
    "    from .common import sample_most_likely as redirect_func\n",
    "    warnings.warn(\"sample_most_likely function has been moved to qiskit.optimization.ising.common, \"\n",
    "                  \"the method here will be removed after Aqua 0.7+\",\n",
    "                  DeprecationWarning)\n",
    "    return redirect_func(state_vector=state_vector)\n",
    "\n",
    "\n",
    "def get_qubitops(mdl, auto_penalty=True, default_penalty=1e5):\n",
    "    \"\"\" get qubit ops \"\"\"\n",
    "    warnings.warn(\"get_qubitops function has been changed to get_operator.\"\n",
    "                  \" The method here will be removed after Aqua 0.7+\",\n",
    "                  DeprecationWarning)\n",
    "    return get_operator(mdl, auto_penalty, default_penalty)\n"
   ]
  },
  {
   "cell_type": "code",
   "execution_count": 6,
   "metadata": {},
   "outputs": [
    {
     "name": "stdout",
     "output_type": "stream",
     "text": [
      "[[(-99999.5+0j), Pauli(z=[True, False, False, False, False], x=[False, False, False, False, False])], [(-24999.5+0j), Pauli(z=[False, True, False, False, False], x=[False, False, False, False, False])], [(-24999.5+0j), Pauli(z=[False, False, True, False, False], x=[False, False, False, False, False])], [(-24999.5+0j), Pauli(z=[False, False, False, True, False], x=[False, False, False, False, False])], [(-24999.5+0j), Pauli(z=[False, False, False, False, True], x=[False, False, False, False, False])], [(25000+0j), Pauli(z=[True, True, False, False, False], x=[False, False, False, False, False])], [(25000+0j), Pauli(z=[True, False, True, False, False], x=[False, False, False, False, False])], [(25000+0j), Pauli(z=[True, False, False, True, False], x=[False, False, False, False, False])], [(25000+0j), Pauli(z=[True, False, False, False, True], x=[False, False, False, False, False])]]\n",
      "energy: -100001.5\n",
      "objective: -4.0\n",
      "solution: [0. 1. 1. 1. 1.]\n"
     ]
    }
   ],
   "source": [
    "\n",
    "qubitOp, offset = get_operator(mdl)#docplex.get_qubitops(mdl)\n",
    "qubitOp.paulis\n",
    "print(qubitOp.paulis)\n",
    "#Making the Hamiltonian in its full form and getting the lowest eigenvalue and eigenvector\n",
    "ee = ExactEigensolver(qubitOp, k=1)\n",
    "result = ee.run()\n",
    "\n",
    "print('energy:', result['energy'])\n",
    "print('objective:', result['energy'] + offset)\n",
    "\n",
    "x = docplex.sample_most_likely(result['eigvecs'][0])\n",
    "print('solution:', x)"
   ]
  },
  {
   "cell_type": "code",
   "execution_count": 7,
   "metadata": {},
   "outputs": [
    {
     "name": "stdout",
     "output_type": "stream",
     "text": [
      "Least busy backend:  ibmqx2\n"
     ]
    }
   ],
   "source": [
    "\n",
    "IBMQ.load_account()\n",
    "provider = IBMQ.get_provider(group='open')\n",
    "backend_lb = least_busy(provider.backends(simulator=False, operational=True))\n",
    "print(\"Least busy backend: \", backend_lb)\n",
    "\n",
    "\n"
   ]
  },
  {
   "cell_type": "code",
   "execution_count": null,
   "metadata": {},
   "outputs": [],
   "source": []
  },
  {
   "cell_type": "code",
   "execution_count": null,
   "metadata": {},
   "outputs": [],
   "source": []
  },
  {
   "cell_type": "code",
   "execution_count": 8,
   "metadata": {},
   "outputs": [
    {
     "name": "stderr",
     "output_type": "stream",
     "text": [
      "The skip Qobj validation does not work for IBMQ provider. Disable it.\n"
     ]
    },
    {
     "name": "stdout",
     "output_type": "stream",
     "text": [
      "energy: -15624.9716796875\n",
      "time: 339.04056096076965\n"
     ]
    }
   ],
   "source": [
    "seed = 10598\n",
    "spsa = SPSA(max_trials=2)\n",
    "ry = RY(qubitOp.num_qubits, depth=3, entanglement='linear')\n",
    "vqe = VQE(qubitOp, ry, spsa)\n",
    "backend = backend_lb\n",
    "quantum_instance = QuantumInstance(backend, seed_simulator=seed, seed_transpiler=seed)\n",
    "result = vqe.run(quantum_instance)\n",
    "print('energy:', result['energy'])\n",
    "print('time:', result['eval_time'])"
   ]
  },
  {
   "cell_type": "code",
   "execution_count": 9,
   "metadata": {},
   "outputs": [
    {
     "name": "stdout",
     "output_type": "stream",
     "text": [
      "solution: [0 0 0 0 1]\n"
     ]
    }
   ],
   "source": [
    "x = docplex.sample_most_likely(result['eigvecs'][0])\n",
    "print('solution:', x)"
   ]
  },
  {
   "cell_type": "code",
   "execution_count": null,
   "metadata": {},
   "outputs": [],
   "source": []
  }
 ],
 "metadata": {
  "kernelspec": {
   "display_name": "Python 3",
   "language": "python",
   "name": "python3"
  },
  "language_info": {
   "codemirror_mode": {
    "name": "ipython",
    "version": 3
   },
   "file_extension": ".py",
   "mimetype": "text/x-python",
   "name": "python",
   "nbconvert_exporter": "python",
   "pygments_lexer": "ipython3",
   "version": "3.7.4"
  }
 },
 "nbformat": 4,
 "nbformat_minor": 4
}
